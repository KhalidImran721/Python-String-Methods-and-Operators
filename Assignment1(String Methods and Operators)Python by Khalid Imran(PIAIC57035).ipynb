{
 "cells": [
  {
   "cell_type": "markdown",
   "metadata": {},
   "source": [
    "# Task 1:   Python Operators and Operands"
   ]
  },
  {
   "cell_type": "code",
   "execution_count": 1,
   "metadata": {},
   "outputs": [
    {
     "name": "stdout",
     "output_type": "stream",
     "text": [
      "35\n"
     ]
    }
   ],
   "source": [
    "#1. Addition\n",
    "\n",
    "a = 15\n",
    "b = 20\n",
    "\n",
    "print(a + b)"
   ]
  },
  {
   "cell_type": "code",
   "execution_count": 2,
   "metadata": {},
   "outputs": [
    {
     "name": "stdout",
     "output_type": "stream",
     "text": [
      "15\n"
     ]
    }
   ],
   "source": [
    "#2. Subtraction\n",
    "\n",
    "a = 25\n",
    "b = 10\n",
    "\n",
    "print(a - b)"
   ]
  },
  {
   "cell_type": "code",
   "execution_count": 3,
   "metadata": {},
   "outputs": [
    {
     "name": "stdout",
     "output_type": "stream",
     "text": [
      "50\n"
     ]
    }
   ],
   "source": [
    "#3. Multiplication\n",
    "\n",
    "a = 5\n",
    "b = 10\n",
    "\n",
    "print(a * b)"
   ]
  },
  {
   "cell_type": "code",
   "execution_count": 5,
   "metadata": {},
   "outputs": [
    {
     "name": "stdout",
     "output_type": "stream",
     "text": [
      "10.0\n"
     ]
    }
   ],
   "source": [
    "#4. Division\n",
    "\n",
    "a = 200\n",
    "b = 20\n",
    "\n",
    "print(a / b)"
   ]
  },
  {
   "cell_type": "code",
   "execution_count": 6,
   "metadata": {},
   "outputs": [
    {
     "name": "stdout",
     "output_type": "stream",
     "text": [
      "5\n"
     ]
    }
   ],
   "source": [
    "#5. Modulus\n",
    "\n",
    "a = 200\n",
    "b = 15\n",
    "\n",
    "print(a % b)"
   ]
  },
  {
   "cell_type": "code",
   "execution_count": 10,
   "metadata": {},
   "outputs": [
    {
     "name": "stdout",
     "output_type": "stream",
     "text": [
      "18\n"
     ]
    }
   ],
   "source": [
    "#5. Exponent\n",
    "\n",
    "a = 2\n",
    "b = 14\n",
    "\n",
    "print(a^2 + b)"
   ]
  },
  {
   "cell_type": "code",
   "execution_count": 12,
   "metadata": {},
   "outputs": [
    {
     "name": "stdout",
     "output_type": "stream",
     "text": [
      "6845.0\n"
     ]
    }
   ],
   "source": [
    "#6. Parenthesis \n",
    "\n",
    "\n",
    "print(5 + 15 * 8 * (20 / 4) - 10 + (250 * 25))"
   ]
  },
  {
   "cell_type": "code",
   "execution_count": 2,
   "metadata": {},
   "outputs": [
    {
     "data": {
      "text/plain": [
       "True"
      ]
     },
     "execution_count": 2,
     "metadata": {},
     "output_type": "execute_result"
    }
   ],
   "source": [
    "#7. bool\n",
    "\n",
    "a = 50\n",
    "b = 100\n",
    "\n",
    "a > 40 and b < 150"
   ]
  },
  {
   "cell_type": "code",
   "execution_count": 4,
   "metadata": {},
   "outputs": [
    {
     "name": "stdout",
     "output_type": "stream",
     "text": [
      "30\n"
     ]
    }
   ],
   "source": [
    "#8. += \n",
    "\n",
    "a = 10\n",
    "a += 20\n",
    "\n",
    "print(a)"
   ]
  },
  {
   "cell_type": "code",
   "execution_count": 5,
   "metadata": {},
   "outputs": [
    {
     "name": "stdout",
     "output_type": "stream",
     "text": [
      "20\n"
     ]
    }
   ],
   "source": [
    "#9. -=\n",
    "\n",
    "a = 30\n",
    "a -=10\n",
    "\n",
    "print(a)"
   ]
  },
  {
   "cell_type": "code",
   "execution_count": 6,
   "metadata": {},
   "outputs": [
    {
     "name": "stdout",
     "output_type": "stream",
     "text": [
      "30\n"
     ]
    }
   ],
   "source": [
    "#10. *=\n",
    "\n",
    "a = 15\n",
    "a *= 2\n",
    "\n",
    "print(a)"
   ]
  },
  {
   "cell_type": "code",
   "execution_count": 7,
   "metadata": {},
   "outputs": [
    {
     "name": "stdout",
     "output_type": "stream",
     "text": [
      "10.0\n"
     ]
    }
   ],
   "source": [
    "#11. /=\n",
    "\n",
    "a = 20\n",
    "a /= 2\n",
    "\n",
    "print(a)"
   ]
  },
  {
   "cell_type": "code",
   "execution_count": 8,
   "metadata": {
    "scrolled": true
   },
   "outputs": [
    {
     "name": "stdout",
     "output_type": "stream",
     "text": [
      "400\n"
     ]
    }
   ],
   "source": [
    "#12. **=\n",
    "\n",
    "a = 20\n",
    "a **= 2\n",
    "\n",
    "print(a)"
   ]
  },
  {
   "cell_type": "code",
   "execution_count": 10,
   "metadata": {},
   "outputs": [
    {
     "name": "stdout",
     "output_type": "stream",
     "text": [
      "Both Values are not equal\n"
     ]
    }
   ],
   "source": [
    "#13. != (Not Equal)\n",
    "\n",
    "a = 20\n",
    "b = 30\n",
    "\n",
    "if a != b:\n",
    "    print(\"Both Values are not equal\")"
   ]
  },
  {
   "cell_type": "code",
   "execution_count": 11,
   "metadata": {},
   "outputs": [
    {
     "name": "stdout",
     "output_type": "stream",
     "text": [
      "Both Values are equal\n"
     ]
    }
   ],
   "source": [
    "#14. == (Equal)\n",
    "\n",
    "a = 20\n",
    "b = 20\n",
    "\n",
    "if a == b:\n",
    "    print(\"Both Values are equal\")"
   ]
  },
  {
   "cell_type": "code",
   "execution_count": 12,
   "metadata": {},
   "outputs": [
    {
     "name": "stdout",
     "output_type": "stream",
     "text": [
      "Second Value is greater\n"
     ]
    }
   ],
   "source": [
    "#15. < (Less Than)\n",
    "\n",
    "a = 10\n",
    "b = 20\n",
    "\n",
    "if a < b:\n",
    "    print(\"Second Value is greater\")"
   ]
  },
  {
   "cell_type": "code",
   "execution_count": 13,
   "metadata": {},
   "outputs": [
    {
     "name": "stdout",
     "output_type": "stream",
     "text": [
      "First Value is greater\n"
     ]
    }
   ],
   "source": [
    "#16. < (Greater Than)\n",
    "\n",
    "a = 30\n",
    "b = 20\n",
    "\n",
    "if a > b:\n",
    "    print(\"First Value is greater\")"
   ]
  },
  {
   "cell_type": "code",
   "execution_count": 14,
   "metadata": {},
   "outputs": [
    {
     "name": "stdout",
     "output_type": "stream",
     "text": [
      "30\n"
     ]
    }
   ],
   "source": [
    "#17. <= (Less Than or Equal To)\n",
    "\n",
    "a = 10\n",
    "b = 20\n",
    "\n",
    "if a <= b:\n",
    "    print(a + b)"
   ]
  },
  {
   "cell_type": "code",
   "execution_count": 19,
   "metadata": {},
   "outputs": [
    {
     "name": "stdout",
     "output_type": "stream",
     "text": [
      "50\n"
     ]
    }
   ],
   "source": [
    "#18. >= (Greater Than or Equal To)\n",
    "\n",
    "a = 30\n",
    "b = 20\n",
    "\n",
    "if a >= b:\n",
    "    print(a + b)"
   ]
  },
  {
   "cell_type": "code",
   "execution_count": 22,
   "metadata": {},
   "outputs": [
    {
     "name": "stdout",
     "output_type": "stream",
     "text": [
      "30\n"
     ]
    }
   ],
   "source": [
    "#19. or (or Operator)\n",
    "\n",
    "a = 10\n",
    "b = 20\n",
    "\n",
    "if a > b or b > a:\n",
    "    print(a + b)"
   ]
  },
  {
   "cell_type": "code",
   "execution_count": 23,
   "metadata": {},
   "outputs": [
    {
     "name": "stdout",
     "output_type": "stream",
     "text": [
      "60\n"
     ]
    }
   ],
   "source": [
    "#20. and (and Operator)\n",
    "\n",
    "a = 20\n",
    "b = 40\n",
    "\n",
    "if a < b and b > a:\n",
    "    print(a + b)"
   ]
  },
  {
   "cell_type": "markdown",
   "metadata": {},
   "source": [
    "# Task 2:    Python String Data Type Methods"
   ]
  },
  {
   "cell_type": "code",
   "execution_count": 1,
   "metadata": {},
   "outputs": [
    {
     "data": {
      "text/plain": [
       "['__add__',\n",
       " '__class__',\n",
       " '__contains__',\n",
       " '__delattr__',\n",
       " '__dir__',\n",
       " '__doc__',\n",
       " '__eq__',\n",
       " '__format__',\n",
       " '__ge__',\n",
       " '__getattribute__',\n",
       " '__getitem__',\n",
       " '__getnewargs__',\n",
       " '__gt__',\n",
       " '__hash__',\n",
       " '__init__',\n",
       " '__init_subclass__',\n",
       " '__iter__',\n",
       " '__le__',\n",
       " '__len__',\n",
       " '__lt__',\n",
       " '__mod__',\n",
       " '__mul__',\n",
       " '__ne__',\n",
       " '__new__',\n",
       " '__reduce__',\n",
       " '__reduce_ex__',\n",
       " '__repr__',\n",
       " '__rmod__',\n",
       " '__rmul__',\n",
       " '__setattr__',\n",
       " '__sizeof__',\n",
       " '__str__',\n",
       " '__subclasshook__',\n",
       " 'capitalize',\n",
       " 'casefold',\n",
       " 'center',\n",
       " 'count',\n",
       " 'encode',\n",
       " 'endswith',\n",
       " 'expandtabs',\n",
       " 'find',\n",
       " 'format',\n",
       " 'format_map',\n",
       " 'index',\n",
       " 'isalnum',\n",
       " 'isalpha',\n",
       " 'isascii',\n",
       " 'isdecimal',\n",
       " 'isdigit',\n",
       " 'isidentifier',\n",
       " 'islower',\n",
       " 'isnumeric',\n",
       " 'isprintable',\n",
       " 'isspace',\n",
       " 'istitle',\n",
       " 'isupper',\n",
       " 'join',\n",
       " 'ljust',\n",
       " 'lower',\n",
       " 'lstrip',\n",
       " 'maketrans',\n",
       " 'partition',\n",
       " 'replace',\n",
       " 'rfind',\n",
       " 'rindex',\n",
       " 'rjust',\n",
       " 'rpartition',\n",
       " 'rsplit',\n",
       " 'rstrip',\n",
       " 'split',\n",
       " 'splitlines',\n",
       " 'startswith',\n",
       " 'strip',\n",
       " 'swapcase',\n",
       " 'title',\n",
       " 'translate',\n",
       " 'upper',\n",
       " 'zfill']"
      ]
     },
     "execution_count": 1,
     "metadata": {},
     "output_type": "execute_result"
    }
   ],
   "source": [
    "my_name = \"Khalid Imran\"\n",
    "dir(my_name)"
   ]
  },
  {
   "cell_type": "code",
   "execution_count": 11,
   "metadata": {},
   "outputs": [
    {
     "name": "stdout",
     "output_type": "stream",
     "text": [
      "Islamic republic of pakistan\n"
     ]
    }
   ],
   "source": [
    "my_country_name = \"islamic Republic of Pakistan\"\n",
    "\n",
    "print(my_country_name.capitalize()) #this method convert the first character in Upper case of string"
   ]
  },
  {
   "cell_type": "code",
   "execution_count": 12,
   "metadata": {},
   "outputs": [
    {
     "name": "stdout",
     "output_type": "stream",
     "text": [
      "islamic republic of pakistan\n"
     ]
    }
   ],
   "source": [
    "my_country_name = \"ISLAMIC REPUBLIC OF PAKISTAN\"\n",
    "\n",
    "print(my_country_name.casefold()) #this method convert the whole string to lowercase"
   ]
  },
  {
   "cell_type": "code",
   "execution_count": 14,
   "metadata": {},
   "outputs": [
    {
     "name": "stdout",
     "output_type": "stream",
     "text": [
      "           ISLAMIC REPUBLIC OF PAKISTAN           \n"
     ]
    }
   ],
   "source": [
    "my_country_name = \"ISLAMIC REPUBLIC OF PAKISTAN\"\n",
    "\n",
    "print(my_country_name.center(50)) #this method center align the string as per given parameter"
   ]
  },
  {
   "cell_type": "code",
   "execution_count": 16,
   "metadata": {},
   "outputs": [
    {
     "name": "stdout",
     "output_type": "stream",
     "text": [
      "4\n"
     ]
    }
   ],
   "source": [
    "my_country_name = \"ISLAMIC REPUBLIC OF PAKISTAN\"\n",
    "\n",
    "print(my_country_name.count('I')) #this method count the total number of a character in string"
   ]
  },
  {
   "cell_type": "code",
   "execution_count": 25,
   "metadata": {},
   "outputs": [
    {
     "name": "stdout",
     "output_type": "stream",
     "text": [
      "b'Islamic Republic of P\\xc3\\xa5kistan'\n"
     ]
    }
   ],
   "source": [
    "my_country_name = \"Islamic Republic of Påkistan\"\n",
    "\n",
    "print(my_country_name.encode()) #this method returns encoded version of given string"
   ]
  },
  {
   "cell_type": "code",
   "execution_count": 26,
   "metadata": {},
   "outputs": [
    {
     "name": "stdout",
     "output_type": "stream",
     "text": [
      "True\n"
     ]
    }
   ],
   "source": [
    "my_country_name = \"Islamic Republic of Pakistan\"\n",
    "\n",
    "print(my_country_name.endswith('n')) #this method returns True if strings ends with the specified\n",
    "                                     #character otherwise false."
   ]
  },
  {
   "cell_type": "code",
   "execution_count": 33,
   "metadata": {},
   "outputs": [
    {
     "name": "stdout",
     "output_type": "stream",
     "text": [
      "Islamic       Republic      of     Pakistan\n"
     ]
    }
   ],
   "source": [
    "my_country_name = \"Islamic\\tRepublic\\tof\\tPakistan\"\n",
    "\n",
    "print(my_country_name.expandtabs(7)) #this method returns a copy of string with spaces replace \\t \n",
    "                                    #as per given parameter\n",
    "                                     "
   ]
  },
  {
   "cell_type": "code",
   "execution_count": 34,
   "metadata": {},
   "outputs": [
    {
     "name": "stdout",
     "output_type": "stream",
     "text": [
      "17\n"
     ]
    }
   ],
   "source": [
    "my_country_name = \"ISLAMIC REPUBLIC OF PAKISTAN\"\n",
    "\n",
    "print(my_country_name.find('O')) #this method find out given character position in string"
   ]
  },
  {
   "cell_type": "code",
   "execution_count": 38,
   "metadata": {},
   "outputs": [
    {
     "name": "stdout",
     "output_type": "stream",
     "text": [
      "My name is Khalid, I am from Pakistan.\n"
     ]
    }
   ],
   "source": [
    "my_bio_data = 'My name is {name}, I am from {country}'\n",
    "\n",
    "print(my_bio_data.format(name = \"Khalid\", country = \"Pakistan.\")) \n",
    "\n",
    "#this method concatenate elements within a string through positional formatting"
   ]
  },
  {
   "cell_type": "code",
   "execution_count": 41,
   "metadata": {},
   "outputs": [
    {
     "name": "stdout",
     "output_type": "stream",
     "text": [
      "My name is Khalid I am from Pakistan\n"
     ]
    }
   ],
   "source": [
    "my_bio_data = {'name':'My name is Khalid', 'country':'I am from Pakistan'}\n",
    "\n",
    "print('{name} {country}'.format_map(my_bio_data)) #used to return an dictionary key's value."
   ]
  },
  {
   "cell_type": "code",
   "execution_count": 45,
   "metadata": {},
   "outputs": [
    {
     "name": "stdout",
     "output_type": "stream",
     "text": [
      "10\n"
     ]
    }
   ],
   "source": [
    "my_country_name = \"ISLAMIC REPUBLIC OF PAKISTAN\"\n",
    "\n",
    "print(my_country_name.index('P')) #this method returns the index of specified character in string"
   ]
  },
  {
   "cell_type": "code",
   "execution_count": 47,
   "metadata": {},
   "outputs": [
    {
     "name": "stdout",
     "output_type": "stream",
     "text": [
      "True\n",
      "False\n"
     ]
    }
   ],
   "source": [
    "my_user_name = \"khalidimran721\"\n",
    "my_name = \"Khalid Imran\"\n",
    "\n",
    "print(my_user_name.isalnum()) #this method returns true or false value if either string is \n",
    "print(my_name.isalnum()) #alphanumaric or not."
   ]
  },
  {
   "cell_type": "code",
   "execution_count": 49,
   "metadata": {},
   "outputs": [
    {
     "name": "stdout",
     "output_type": "stream",
     "text": [
      "False\n",
      "True\n"
     ]
    }
   ],
   "source": [
    "my_user_name = \"khalidimran721\"\n",
    "my_name = \"KhalidImran\"\n",
    "\n",
    "print(my_user_name.isalpha()) #this method returns true or false value if either string is \n",
    "print(my_name.isalpha()) #contain space or not."
   ]
  },
  {
   "cell_type": "code",
   "execution_count": 50,
   "metadata": {},
   "outputs": [
    {
     "name": "stdout",
     "output_type": "stream",
     "text": [
      "True\n"
     ]
    }
   ],
   "source": [
    "my_country_name = \"ISLAMIC REPUBLIC OF PAKISTAN\"\n",
    "\n",
    "print(my_country_name.isascii()) #this method checks whether the string contains ASCII characters."
   ]
  },
  {
   "cell_type": "code",
   "execution_count": 58,
   "metadata": {},
   "outputs": [
    {
     "name": "stdout",
     "output_type": "stream",
     "text": [
      "False\n",
      "True\n"
     ]
    }
   ],
   "source": [
    "my_user_name = \"khalidimran\"\n",
    "my_age = \"30\"\n",
    "\n",
    "print(my_user_name.isdecimal()) #this method returns true or false if string contain decimal value.\n",
    "print(my_age.isdecimal())"
   ]
  },
  {
   "cell_type": "code",
   "execution_count": 57,
   "metadata": {},
   "outputs": [
    {
     "name": "stdout",
     "output_type": "stream",
     "text": [
      "False\n",
      "True\n"
     ]
    }
   ],
   "source": [
    "my_user_name = \"khalidimran\"\n",
    "my_age = \"30\"\n",
    "\n",
    "print(my_user_name.isdigit()) #this method returns true or false if string contain digit.\n",
    "print(my_age.isdigit())"
   ]
  },
  {
   "cell_type": "code",
   "execution_count": 59,
   "metadata": {},
   "outputs": [
    {
     "name": "stdout",
     "output_type": "stream",
     "text": [
      "True\n",
      "False\n"
     ]
    }
   ],
   "source": [
    "my_user_name = \"khalidimran721\"\n",
    "my_age = \"30\"\n",
    "\n",
    "print(my_user_name.isidentifier()) #this method check whether a string is a valid identifier or not.\n",
    "print(my_age.isidentifier())"
   ]
  },
  {
   "cell_type": "code",
   "execution_count": 60,
   "metadata": {},
   "outputs": [
    {
     "name": "stdout",
     "output_type": "stream",
     "text": [
      "True\n",
      "False\n"
     ]
    }
   ],
   "source": [
    "my_user_name = \"khalidimran\"\n",
    "my_name = \"KhalidImran\"\n",
    "\n",
    "print(my_user_name.islower()) #this method returns true if either string is all lowercase.\n",
    "print(my_name.islower())"
   ]
  },
  {
   "cell_type": "code",
   "execution_count": 62,
   "metadata": {},
   "outputs": [
    {
     "name": "stdout",
     "output_type": "stream",
     "text": [
      "False\n",
      "True\n"
     ]
    }
   ],
   "source": [
    "my_user_name = \"khalidimran721\"\n",
    "my_age = \"30\"\n",
    "\n",
    "print(my_user_name.isnumeric()) #this method check whether a string is all numaric or not.\n",
    "print(my_age.isnumeric())"
   ]
  },
  {
   "cell_type": "code",
   "execution_count": 72,
   "metadata": {},
   "outputs": [
    {
     "name": "stdout",
     "output_type": "stream",
     "text": [
      "True\n",
      "True\n"
     ]
    }
   ],
   "source": [
    "my_user_name = \"khalidimran721\"\n",
    "my_age = \"30\"\n",
    "\n",
    "print(my_user_name.isprintable()) #this method check whether a string is printable or not.\n",
    "print(my_age.isprintable())"
   ]
  },
  {
   "cell_type": "code",
   "execution_count": 75,
   "metadata": {},
   "outputs": [
    {
     "name": "stdout",
     "output_type": "stream",
     "text": [
      "False\n",
      "True\n"
     ]
    }
   ],
   "source": [
    "my_user_name = \"khalidimran721\"\n",
    "my_name = \"  \"\n",
    "\n",
    "print(my_user_name.isspace()) #this method returns true if all string is white spaced otherwise false.\n",
    "print(my_name.isspace())"
   ]
  },
  {
   "cell_type": "code",
   "execution_count": 78,
   "metadata": {},
   "outputs": [
    {
     "name": "stdout",
     "output_type": "stream",
     "text": [
      "False\n",
      "True\n"
     ]
    }
   ],
   "source": [
    "my_user_name = \"khalidimran721\"\n",
    "my_name = \"Khalid Imran\"\n",
    "\n",
    "print(my_user_name.istitle()) #this method returns true if all words start with Uppercase otherwise false\n",
    "print(my_name.istitle())"
   ]
  },
  {
   "cell_type": "code",
   "execution_count": 79,
   "metadata": {},
   "outputs": [
    {
     "name": "stdout",
     "output_type": "stream",
     "text": [
      "False\n",
      "True\n"
     ]
    }
   ],
   "source": [
    "my_user_name = \"khalidimran721\"\n",
    "my_name = \"KHALID IMRAN\"\n",
    "\n",
    "print(my_user_name.isupper()) #this method returns true if all characters in Uppercase otherwise false\n",
    "print(my_name.isupper())"
   ]
  },
  {
   "cell_type": "code",
   "execution_count": 88,
   "metadata": {},
   "outputs": [
    {
     "name": "stdout",
     "output_type": "stream",
     "text": [
      "Imran Khalid\n"
     ]
    }
   ],
   "source": [
    "\n",
    "my_name = {'Khalid' , 'Imran'}\n",
    "\n",
    "print(' '.join(my_name)) #this method joined all words into one string"
   ]
  },
  {
   "cell_type": "code",
   "execution_count": 89,
   "metadata": {},
   "outputs": [
    {
     "name": "stdout",
     "output_type": "stream",
     "text": [
      "Khalid               Imran\n"
     ]
    }
   ],
   "source": [
    "\n",
    "my_name = \"Khalid\"\n",
    "\n",
    "print(my_name.ljust(20),\"Imran\") #this method left justified the word in a string"
   ]
  },
  {
   "cell_type": "code",
   "execution_count": 90,
   "metadata": {},
   "outputs": [
    {
     "name": "stdout",
     "output_type": "stream",
     "text": [
      "khalid imran\n"
     ]
    }
   ],
   "source": [
    "my_name = \"KHALID IMRAN\"\n",
    "\n",
    "print(my_name.lower()) #this method convert all string into lowercase"
   ]
  },
  {
   "cell_type": "code",
   "execution_count": 92,
   "metadata": {},
   "outputs": [
    {
     "name": "stdout",
     "output_type": "stream",
     "text": [
      "               KHALID IMRAN\n",
      "khalidimran721\n",
      "KHALID IMRAN\n"
     ]
    }
   ],
   "source": [
    "my_user_name = \"          khalidimran721\"\n",
    "my_name = \"               KHALID IMRAN\"\n",
    "\n",
    "print(my_name)#with lstrip method\n",
    "print(my_user_name.lstrip()) #this method remove all spaces from string from left side\n",
    "print(my_name.lstrip())"
   ]
  },
  {
   "cell_type": "code",
   "execution_count": 100,
   "metadata": {},
   "outputs": [
    {
     "ename": "ImportError",
     "evalue": "cannot import name 'maketrans' from 'string' (C:\\Users\\Khalid\\Anaconda3\\lib\\string.py)",
     "output_type": "error",
     "traceback": [
      "\u001b[1;31m---------------------------------------------------------------------------\u001b[0m",
      "\u001b[1;31mImportError\u001b[0m                               Traceback (most recent call last)",
      "\u001b[1;32m<ipython-input-100-e540495fb453>\u001b[0m in \u001b[0;36m<module>\u001b[1;34m\u001b[0m\n\u001b[1;32m----> 1\u001b[1;33m \u001b[1;32mfrom\u001b[0m \u001b[0mstring\u001b[0m \u001b[1;32mimport\u001b[0m \u001b[0mmaketrans\u001b[0m\u001b[1;33m\u001b[0m\u001b[1;33m\u001b[0m\u001b[0m\n\u001b[0m\u001b[0;32m      2\u001b[0m \u001b[1;33m\u001b[0m\u001b[0m\n\u001b[0;32m      3\u001b[0m \u001b[0mintab\u001b[0m \u001b[1;33m=\u001b[0m \u001b[1;34m\"khalidimran7\"\u001b[0m\u001b[1;33m\u001b[0m\u001b[1;33m\u001b[0m\u001b[0m\n\u001b[0;32m      4\u001b[0m \u001b[0mouttab\u001b[0m \u001b[1;33m=\u001b[0m \u001b[1;34m\"KHALID IMRAN\"\u001b[0m\u001b[1;33m\u001b[0m\u001b[1;33m\u001b[0m\u001b[0m\n\u001b[0;32m      5\u001b[0m \u001b[0mtrantab\u001b[0m \u001b[1;33m=\u001b[0m \u001b[0mmaketrans\u001b[0m\u001b[1;33m(\u001b[0m\u001b[0mintab\u001b[0m\u001b[1;33m,\u001b[0m \u001b[0mouttab\u001b[0m\u001b[1;33m)\u001b[0m\u001b[1;33m\u001b[0m\u001b[1;33m\u001b[0m\u001b[0m\n",
      "\u001b[1;31mImportError\u001b[0m: cannot import name 'maketrans' from 'string' (C:\\Users\\Khalid\\Anaconda3\\lib\\string.py)"
     ]
    }
   ],
   "source": [
    "from string import maketrans\n",
    "\n",
    "intab = \"khalidimran7\"\n",
    "outtab = \"KHALID IMRAN\"\n",
    "trantab = maketrans(intab, outtab)\n",
    "\n",
    "str = \"My username and name is\"\n",
    "\n",
    "print(str.translate(trantab)) #this method returns true if all characters in Uppercase otherwise"
   ]
  },
  {
   "cell_type": "code",
   "execution_count": 105,
   "metadata": {},
   "outputs": [
    {
     "name": "stdout",
     "output_type": "stream",
     "text": [
      "('Khalid ', 'Imran', '')\n"
     ]
    }
   ],
   "source": [
    "\n",
    "my_name = \"Khalid Imran\"\n",
    "\n",
    "print(my_name.partition('Imran')) #this method split sting into tuple"
   ]
  },
  {
   "cell_type": "code",
   "execution_count": 108,
   "metadata": {},
   "outputs": [
    {
     "name": "stdout",
     "output_type": "stream",
     "text": [
      "Muhammad Imran\n"
     ]
    }
   ],
   "source": [
    "\n",
    "my_name = \"Khalid Imran\"\n",
    "\n",
    "print(my_name.replace('Khalid','Muhammad')) #this method replace the string with new word"
   ]
  },
  {
   "cell_type": "code",
   "execution_count": 110,
   "metadata": {},
   "outputs": [
    {
     "name": "stdout",
     "output_type": "stream",
     "text": [
      "7\n"
     ]
    }
   ],
   "source": [
    "my_user_name = \"Khalidimran721\"\n",
    "\n",
    "print(my_user_name.rfind('m')) #this method find index value of specific character in string"
   ]
  },
  {
   "cell_type": "code",
   "execution_count": 111,
   "metadata": {},
   "outputs": [
    {
     "name": "stdout",
     "output_type": "stream",
     "text": [
      "10\n"
     ]
    }
   ],
   "source": [
    "my_user_name = \"Khalidimran721\"\n",
    "\n",
    "print(my_user_name.rindex('n')) #this method returns index value of specific character in string"
   ]
  },
  {
   "cell_type": "code",
   "execution_count": 112,
   "metadata": {},
   "outputs": [
    {
     "name": "stdout",
     "output_type": "stream",
     "text": [
      "                                    Khalidimran721\n"
     ]
    }
   ],
   "source": [
    "my_user_name = \"Khalidimran721\"\n",
    "\n",
    "print(my_user_name.rjust(50)) #this method justified the string"
   ]
  },
  {
   "cell_type": "code",
   "execution_count": 115,
   "metadata": {},
   "outputs": [
    {
     "name": "stdout",
     "output_type": "stream",
     "text": [
      "('Khalid ', 'Imran', '')\n"
     ]
    }
   ],
   "source": [
    "my_name = \"Khalid Imran\"\n",
    "\n",
    "print(my_name.rpartition('Imran')) #this method split string into tuple containing three elements"
   ]
  },
  {
   "cell_type": "code",
   "execution_count": 116,
   "metadata": {},
   "outputs": [
    {
     "name": "stdout",
     "output_type": "stream",
     "text": [
      "['Khalid', 'Imran']\n"
     ]
    }
   ],
   "source": [
    "my_name = \"Khalid Imran\"\n",
    "\n",
    "print(my_name.rsplit()) #this method seperates the string and returns a list"
   ]
  },
  {
   "cell_type": "code",
   "execution_count": 123,
   "metadata": {},
   "outputs": [
    {
     "name": "stdout",
     "output_type": "stream",
     "text": [
      "Khalid Imra\n"
     ]
    }
   ],
   "source": [
    "my_name = \"Khalid Imran\"\n",
    "\n",
    "print(my_name.rstrip('n')) #this removes all the specified characters from right side of the string"
   ]
  },
  {
   "cell_type": "code",
   "execution_count": 124,
   "metadata": {},
   "outputs": [
    {
     "name": "stdout",
     "output_type": "stream",
     "text": [
      "['Khalid', 'Imran']\n"
     ]
    }
   ],
   "source": [
    "my_name = \"Khalid Imran\"\n",
    "\n",
    "print(my_name.split()) #this method is opposite of concatination its split sting into array"
   ]
  },
  {
   "cell_type": "code",
   "execution_count": 126,
   "metadata": {},
   "outputs": [
    {
     "name": "stdout",
     "output_type": "stream",
     "text": [
      "['Khalid Imran']\n"
     ]
    }
   ],
   "source": [
    "my_name = \"Khalid Imran\"\n",
    "\n",
    "print(my_name.splitlines()) #this method returns a list of lines in the string."
   ]
  },
  {
   "cell_type": "code",
   "execution_count": 128,
   "metadata": {},
   "outputs": [
    {
     "name": "stdout",
     "output_type": "stream",
     "text": [
      "True\n",
      "False\n"
     ]
    }
   ],
   "source": [
    "my_user_name = \"khalidimran721\"\n",
    "my_name = \"KhalidImran\"\n",
    "\n",
    "print(my_user_name.startswith('k')) #this method returns true or false value if either string is \n",
    "print(my_name.startswith('h')) #\"Start with spacific character or not."
   ]
  },
  {
   "cell_type": "code",
   "execution_count": 132,
   "metadata": {},
   "outputs": [
    {
     "name": "stdout",
     "output_type": "stream",
     "text": [
      "kHALID iMRAN\n"
     ]
    }
   ],
   "source": [
    "my_name = \"Khalid Imran\"\n",
    "\n",
    "print(my_name.swapcase()) #this method convert the string into opposite lower/upper case."
   ]
  },
  {
   "cell_type": "code",
   "execution_count": 133,
   "metadata": {},
   "outputs": [
    {
     "name": "stdout",
     "output_type": "stream",
     "text": [
      "Khalid Imran\n"
     ]
    }
   ],
   "source": [
    "my_name = \"khalid imran\"\n",
    "\n",
    "print(my_name.title()) #this convert first character of each word of string"
   ]
  },
  {
   "cell_type": "code",
   "execution_count": 134,
   "metadata": {},
   "outputs": [
    {
     "name": "stdout",
     "output_type": "stream",
     "text": [
      "KHALID IMRAN\n"
     ]
    }
   ],
   "source": [
    "my_name = \"khalid imran\"\n",
    "\n",
    "print(my_name.upper()) #this convert all string in uppercase"
   ]
  },
  {
   "cell_type": "code",
   "execution_count": 135,
   "metadata": {},
   "outputs": [
    {
     "name": "stdout",
     "output_type": "stream",
     "text": [
      "0000khalid imran\n"
     ]
    }
   ],
   "source": [
    "my_name = \"khalid imran\"\n",
    "\n",
    "print(my_name.zfill(16)) #this fills the string at left with 0 digit to make a string of length width."
   ]
  },
  {
   "cell_type": "code",
   "execution_count": null,
   "metadata": {},
   "outputs": [],
   "source": []
  }
 ],
 "metadata": {
  "celltoolbar": "Raw Cell Format",
  "kernelspec": {
   "display_name": "Python 3",
   "language": "python",
   "name": "python3"
  },
  "language_info": {
   "codemirror_mode": {
    "name": "ipython",
    "version": 3
   },
   "file_extension": ".py",
   "mimetype": "text/x-python",
   "name": "python",
   "nbconvert_exporter": "python",
   "pygments_lexer": "ipython3",
   "version": "3.7.4"
  }
 },
 "nbformat": 4,
 "nbformat_minor": 2
}
